{
  "nbformat": 4,
  "nbformat_minor": 0,
  "metadata": {
    "colab": {
      "provenance": [],
      "authorship_tag": "ABX9TyMyaHlhBGjdfN6u1e9ehX1E",
      "include_colab_link": true
    },
    "kernelspec": {
      "name": "python3",
      "display_name": "Python 3"
    },
    "language_info": {
      "name": "python"
    }
  },
  "cells": [
    {
      "cell_type": "markdown",
      "metadata": {
        "id": "view-in-github",
        "colab_type": "text"
      },
      "source": [
        "<a href=\"https://colab.research.google.com/github/nirmitsakre/LearningML/blob/main/CostFunction.ipynb\" target=\"_parent\"><img src=\"https://colab.research.google.com/assets/colab-badge.svg\" alt=\"Open In Colab\"/></a>"
      ]
    },
    {
      "cell_type": "markdown",
      "source": [
        "Codes for creating Cost Function for Linear Regression"
      ],
      "metadata": {
        "id": "Ov9tZaPsrdQ7"
      }
    },
    {
      "cell_type": "code",
      "execution_count": 2,
      "metadata": {
        "id": "uNBSeuhDqNgW"
      },
      "outputs": [],
      "source": [
        "import numpy as np\n",
        "import matplotlib.pyplot as plt"
      ]
    },
    {
      "cell_type": "code",
      "source": [
        "x_train = np.array([1.0, 2.0])   #(size in 1000 sq. feet)\n",
        "y_train = np.array([300.0, 500.0]) #(price in 1000s of dollars)"
      ],
      "metadata": {
        "id": "4U3q53dztpuk"
      },
      "execution_count": 4,
      "outputs": []
    },
    {
      "cell_type": "code",
      "source": [
        "def compute_cost(x, y, w, b):\n",
        "  \"\"\"\n",
        "  Computes the cost function for linear regression.\n",
        "\n",
        "  Args:\n",
        "    x (ndarry (m,)) : Data, m examples\n",
        "    y (ndaarry (m,)): target values\n",
        "    w, b (scalar)   : model parameters\n",
        "  \n",
        "  Returns\n",
        "    total_cost (float): The cost of using w, b as the parameters for linear regression \n",
        "      to fit the data points in x and y\n",
        "  \"\"\"\n",
        "\n",
        "  # number of trainign examples\n",
        "  m = x.shape[0]\n",
        "\n",
        "  cost_sum = 0\n",
        "  for i in range(m):\n",
        "    f_wb = w * x[i] + b\n",
        "    cost = (f_wb - y[i])**2\n",
        "    cost_sum = cost_sum + cost\n",
        "  total_cost = (1/ (2*m)) * cost_sum\n",
        "                \n",
        "  return total_cost"
      ],
      "metadata": {
        "id": "fCf3lyEDuDo2"
      },
      "execution_count": 6,
      "outputs": []
    },
    {
      "cell_type": "code",
      "source": [
        "# Lets check cost for w is range 0 to 2.5, and b = 100\n",
        "wlist = [i for i in range(0, 400, 20)]\n",
        "cost_list = [compute_cost(x_train, y_train, w, 100) for w in wlist]\n"
      ],
      "metadata": {
        "id": "iCV_n7urvlYE"
      },
      "execution_count": 10,
      "outputs": []
    },
    {
      "cell_type": "code",
      "source": [
        "plt.plot(wlist, cost_list)\n",
        "plt.xlabel(\"w\")\n",
        "plt.ylabel(\"J(w)\")"
      ],
      "metadata": {
        "colab": {
          "base_uri": "https://localhost:8080/",
          "height": 296
        },
        "id": "PDJUY7pZwPgo",
        "outputId": "49d83c68-ad3e-4015-b55c-ddb950154256"
      },
      "execution_count": 11,
      "outputs": [
        {
          "output_type": "execute_result",
          "data": {
            "text/plain": [
              "Text(0, 0.5, 'J(w)')"
            ]
          },
          "metadata": {},
          "execution_count": 11
        },
        {
          "output_type": "display_data",
          "data": {
            "text/plain": [
              "<Figure size 432x288 with 1 Axes>"
            ],
            "image/png": "[encoded data removed]"
          },
          "metadata": {
            "needs_background": "light"
          }
        }
      ]
    },
    {
      "cell_type": "markdown",
      "source": [
        "For b = 100, J(w) minimizes at w = 200."
      ],
      "metadata": {
        "id": "AQ5yPsH-xHRY"
      }
    },
    {
      "cell_type": "code",
      "source": [],
      "metadata": {
        "id": "5nFGf99WxSIH"
      },
      "execution_count": null,
      "outputs": []
    }
  ]
}